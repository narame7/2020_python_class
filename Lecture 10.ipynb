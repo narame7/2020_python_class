{
 "cells": [
  {
   "cell_type": "markdown",
   "metadata": {},
   "source": [
    "# Lecture 10"
   ]
  },
  {
   "cell_type": "markdown",
   "metadata": {},
   "source": [
    "### 10-1  \n",
    "\n",
    "다음 텍스트를 앞뒤의 공백을 제거한 뒤 단어단위로 잘라서 list로 만드는 프로그램을 작성하세요.\n"
   ]
  },
  {
   "cell_type": "code",
   "execution_count": 18,
   "metadata": {},
   "outputs": [
    {
     "name": "stdout",
     "output_type": "stream",
     "text": [
      "['ba', 'asd', 'dasd', 'eqwea', 'asd']\n"
     ]
    }
   ],
   "source": [
    "text=\" aba asd dasd eqwea asd \"\n",
    "\"\"\" 문자열 앞 뒤 공백 제거\"\"\"\n",
    "\"\"\"문자열-> 단어단위 리스트 \"\"\""
   ]
  },
  {
   "cell_type": "markdown",
   "metadata": {},
   "source": [
    "### 10-2\n",
    "\n",
    "test.txt라는 파일을 하나 생성하고 해당 파일에  \n",
    "lexture 10 test  \n",
    "라는 내용을 적고 저장하는 코드를 작성하세요  \n",
    "아래 코드는 test.txt를 열고 test라는 내용을 적은뒤 저장하는 코드입니다."
   ]
  },
  {
   "cell_type": "code",
   "execution_count": 1,
   "metadata": {},
   "outputs": [],
   "source": [
    "f = open(\"test.txt\", 'w')\n",
    "f.write('test')\n",
    "f.close()\n"
   ]
  },
  {
   "cell_type": "markdown",
   "metadata": {},
   "source": [
    "### 10-3  \n",
    "\n",
    "다음 str에 대해 각 문자가 얼마나 나오는지 카운트하고 그것을 딕셔너리로 만드세요"
   ]
  },
  {
   "cell_type": "code",
   "execution_count": 11,
   "metadata": {},
   "outputs": [
    {
     "name": "stdout",
     "output_type": "stream",
     "text": [
      "{'a': 10, 's': 13, 'd': 14, 'e': 10, 'w': 7, 'q': 9}\n"
     ]
    }
   ],
   "source": [
    "D={}\n",
    "text=\"asdeedadaaasswwqqeeddsssaaseeeqqwwdddassddqqassseeddwwqqasddewq\"\n",
    "\n",
    "# 다른 방식을 사용하셔도 좋습니다.\n",
    "\n",
    "for i in text:\n",
    "    if \"\"\"조건을 채워넣으세요 \"\"\":# 이미 있다면\n",
    "         #해당 key의 value를 1 증가시킵니다.\n",
    "    else#해당 key가 없다면\n",
    "         #해당 key의 값을 1로 합니다\n",
    "        \n",
    "print(D)"
   ]
  },
  {
   "cell_type": "markdown",
   "metadata": {},
   "source": [
    "### 10-4\n",
    "주어진 텍스트에서 전화번호만 가져오는 코드를 작성하세요\n"
   ]
  },
  {
   "cell_type": "code",
   "execution_count": 2,
   "metadata": {},
   "outputs": [],
   "source": [
    "import re"
   ]
  },
  {
   "cell_type": "code",
   "execution_count": null,
   "metadata": {},
   "outputs": [],
   "source": [
    "text= \"안녕하세요 홍길동입니다. 제 전화번호는 123-4657-1111 입니다.\""
   ]
  },
  {
   "cell_type": "markdown",
   "metadata": {},
   "source": [
    "### 10-4\n",
    "주어진 텍스트에서 이메일만 가져오는 코드를 작성하세요"
   ]
  },
  {
   "cell_type": "code",
   "execution_count": null,
   "metadata": {},
   "outputs": [],
   "source": [
    "test=\" 문의사항은 test@gmail.com 을 통해 보내주시기 바랍니다.\""
   ]
  }
 ],
 "metadata": {
  "kernelspec": {
   "display_name": "Python 3",
   "language": "python",
   "name": "python3"
  },
  "language_info": {
   "codemirror_mode": {
    "name": "ipython",
    "version": 3
   },
   "file_extension": ".py",
   "mimetype": "text/x-python",
   "name": "python",
   "nbconvert_exporter": "python",
   "pygments_lexer": "ipython3",
   "version": "3.7.3"
  }
 },
 "nbformat": 4,
 "nbformat_minor": 2
}
