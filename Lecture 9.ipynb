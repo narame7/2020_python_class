{
 "cells": [
  {
   "cell_type": "markdown",
   "metadata": {},
   "source": [
    "# Lecture 9"
   ]
  },
  {
   "cell_type": "markdown",
   "metadata": {},
   "source": [
    "### 9-1  \n",
    "다음과 같은 list가 있을떄 중복을 제거해보세요"
   ]
  },
  {
   "cell_type": "code",
   "execution_count": 1,
   "metadata": {},
   "outputs": [
    {
     "name": "stdout",
     "output_type": "stream",
     "text": [
      "{'d', 'e', 'a', 'b', 'c'}\n"
     ]
    }
   ],
   "source": [
    "A=[\"a\",\"b\",\"c\",\"a\",\"b\",\"a\",\"d\",\"b\",\"e\"]\n",
    "print(\"\"\" 코드를 채워넣으세요 \"\"\")"
   ]
  },
  {
   "cell_type": "markdown",
   "metadata": {},
   "source": [
    "### 9-2\n",
    " Set,int, List, string, tuple, Dictionary, Set, float\n",
    " 중 immutable과 mutable을 구분하세요"
   ]
  },
  {
   "cell_type": "code",
   "execution_count": null,
   "metadata": {},
   "outputs": [],
   "source": [
    "print(\"immutable: \")\n",
    "print(\"mutable: \")"
   ]
  },
  {
   "cell_type": "markdown",
   "metadata": {},
   "source": [
    "### 9-3 \n",
    "다음과 같은 배열이 있을때  \n",
    "다음과 같은 배열을 복사해 배열의 마지막 값이 \"6\"으로 원래 배열과 값 하나만 다른 배열을 만드세요"
   ]
  },
  {
   "cell_type": "code",
   "execution_count": 11,
   "metadata": {},
   "outputs": [
    {
     "name": "stdout",
     "output_type": "stream",
     "text": [
      "[1, 2, 3, 4, 5]\n",
      "[1, 2, 3, 4, 6]\n"
     ]
    }
   ],
   "source": [
    "\n",
    "a=[1,2,3,4,5]\n",
    "b=\"\"\" a를 복사하세요 \"\"\"\n",
    "\n",
    "b[-1]=6\n",
    "\n",
    "print(a)\n",
    "print(b)"
   ]
  },
  {
   "cell_type": "markdown",
   "metadata": {},
   "source": [
    "### 9-4 \n",
    "딕셔너리를 이용해 input으로 입력받은 값이 딕셔너리 안에 있는지 검사하세요\n"
   ]
  },
  {
   "cell_type": "code",
   "execution_count": 13,
   "metadata": {},
   "outputs": [
    {
     "name": "stdout",
     "output_type": "stream",
     "text": [
      "korea\n",
      "한국\n"
     ]
    }
   ],
   "source": [
    "D={\"korea\":\"한국\",\"japan\":\"일본\",\"USA\":\"미국\",\"china\":\"중곡\",\"spain\":\"스페인\",\"russia\":\"러시아\"}\n",
    "search=input()\n",
    "\n",
    "if \"\"\"값이 있는지 검사하는 부분\"\"\":\n",
    "    print(\"\"\"해당 값의 딕셔너리의 value를 출력\"\"\")\n",
    "else:\n",
    "    print(\"not found\")\n"
   ]
  },
  {
   "cell_type": "markdown",
   "metadata": {},
   "source": [
    "### 9-5 \n",
    "\n",
    "shallow copy 와 deep copy의 차이점을 간단히 서술하세요.\n"
   ]
  },
  {
   "cell_type": "code",
   "execution_count": null,
   "metadata": {},
   "outputs": [],
   "source": []
  }
 ],
 "metadata": {
  "kernelspec": {
   "display_name": "Python 3",
   "language": "python",
   "name": "python3"
  },
  "language_info": {
   "codemirror_mode": {
    "name": "ipython",
    "version": 3
   },
   "file_extension": ".py",
   "mimetype": "text/x-python",
   "name": "python",
   "nbconvert_exporter": "python",
   "pygments_lexer": "ipython3",
   "version": "3.7.3"
  }
 },
 "nbformat": 4,
 "nbformat_minor": 2
}
